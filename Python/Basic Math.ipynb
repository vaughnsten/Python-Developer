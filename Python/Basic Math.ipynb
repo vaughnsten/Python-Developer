{
 "cells": [
  {
   "cell_type": "code",
   "execution_count": 1,
   "metadata": {},
   "outputs": [
    {
     "name": "stdout",
     "output_type": "stream",
     "text": [
      "Greetings! May I know your name? Vaughn\n",
      "Hello, Vaughn! Welcome to Math Club.\n",
      "Your name, Vaughn, is 6 characters long!\n",
      "Your name, Vaughn, is 6 characters long!\n",
      "Your name, Vaughn, is 6 characters long!\n",
      "Your name, Vaughn, is 6 characters long!\n",
      "Your name, Vaughn, is 6 characters long!\n",
      "Your name, Vaughn, is 6 characters long!\n",
      "Can we solve some mathematical equations now? No\n",
      "Okay, goodbye!\n"
     ]
    }
   ],
   "source": [
    "#getsname\n",
    "name = input(\"Greetings! May I know your name? \")\n",
    "print(\"Hello, \" + name + \"! Welcome to Math Club.\")\n",
    "\n",
    "for greetings in name:\n",
    "    char_name = len(name)\n",
    "    print(\"Your name, \" + name + \", is \" + str(char_name) + \" characters long!\")\n",
    "#invitemath\n",
    "math = input(\"Can we solve some mathematical equations now? \")\n",
    "\n",
    "if math == \"Yes\":\n",
    "    print(\"That is great, \" + name + \"! Selecting the first equation... \")\n",
    "    first_math = input(\"What is 2 + 2? \")\n",
    "    if first_math == \"4\":\n",
    "        print(\"The answer is correct, \" + name + \"!\")\n",
    "    else:\n",
    "        print(\"The answer is incorrect, \" + name + \"!\")\n",
    "elif math == \"No\":\n",
    "    print(\"Okay, goodbye!\")\n",
    "else:\n",
    "    print(\"I didn't quite understand that. Sorry.\")\n"
   ]
  },
  {
   "cell_type": "code",
   "execution_count": null,
   "metadata": {},
   "outputs": [],
   "source": []
  }
 ],
 "metadata": {
  "kernelspec": {
   "display_name": "Python 3",
   "language": "python",
   "name": "python3"
  },
  "language_info": {
   "codemirror_mode": {
    "name": "ipython",
    "version": 3
   },
   "file_extension": ".py",
   "mimetype": "text/x-python",
   "name": "python",
   "nbconvert_exporter": "python",
   "pygments_lexer": "ipython3",
   "version": "3.7.0"
  }
 },
 "nbformat": 4,
 "nbformat_minor": 2
}
