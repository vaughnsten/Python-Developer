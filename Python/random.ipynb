{
 "cells": [
  {
   "cell_type": "code",
   "execution_count": 1,
   "metadata": {},
   "outputs": [],
   "source": [
    "from random import shuffle"
   ]
  },
  {
   "cell_type": "code",
   "execution_count": 2,
   "metadata": {},
   "outputs": [],
   "source": [
    "mylist = [1, 2, 3, 4, 5, 6, 7, 8, 9, 10, 11, 12, 13, 14, 15, 16, 17, 18, 19, 20]"
   ]
  },
  {
   "cell_type": "code",
   "execution_count": 6,
   "metadata": {},
   "outputs": [],
   "source": [
    "shuffle(mylist)"
   ]
  },
  {
   "cell_type": "code",
   "execution_count": 7,
   "metadata": {},
   "outputs": [
    {
     "name": "stdout",
     "output_type": "stream",
     "text": [
      "[11, 13, 4, 17, 2, 7, 9, 10, 18, 1, 19, 20, 8, 16, 15, 14, 12, 6, 5, 3]\n"
     ]
    }
   ],
   "source": [
    "print(mylist)"
   ]
  },
  {
   "cell_type": "code",
   "execution_count": 2,
   "metadata": {},
   "outputs": [],
   "source": [
    "from random import randint"
   ]
  },
  {
   "cell_type": "code",
   "execution_count": 3,
   "metadata": {},
   "outputs": [
    {
     "name": "stdout",
     "output_type": "stream",
     "text": [
      "The current value of the random number is 14\n",
      "The current value of the random number is 15\n",
      "The current value of the random number is 16\n",
      "The current value of the random number is 17\n",
      "The current value of the random number is 18\n",
      "The current value of the random number is 19\n",
      "The current value of the random number is 20\n",
      "The current value of the random number is 21\n",
      "The current value of the random number is 22\n",
      "The current value of the random number is 23\n",
      "The current value of the random number is 24\n",
      "The current value of the random number is 25\n",
      "The current value of the random number is 26\n",
      "The current value of the random number is 27\n",
      "The current value of the random number is 28\n",
      "The current value of the random number is 29\n",
      "The current value of the random number is 30\n",
      "The current value of the random number is 31\n",
      "The current value of the random number is 32\n",
      "The current value of the random number is 33\n",
      "The current value of the random number is 34\n",
      "The current value of the random number is 35\n",
      "The current value of the random number is 36\n",
      "The current value of the random number is 37\n",
      "The current value of the random number is 38\n",
      "The current value of the random number is 39\n",
      "The current value of the random number is 40\n",
      "The current value of the random number is 41\n",
      "The current value of the random number is 42\n",
      "The current value of the random number is 43\n",
      "The current value of the random number is 44\n",
      "The current value of the random number is 45\n",
      "The current value of the random number is 46\n",
      "The current value of the random number is 47\n",
      "The current value of the random number is 48\n",
      "The current value of the random number is 49\n",
      "The current value of the random number is 50\n",
      "The current value of the random number is 51\n",
      "The current value of the random number is 52\n",
      "The current value of the random number is 53\n",
      "The current value of the random number is 54\n",
      "The current value of the random number is 55\n",
      "The current value of the random number is 56\n",
      "The current value of the random number is 57\n",
      "The current value of the random number is 58\n",
      "The current value of the random number is 59\n",
      "The current value of the random number is 60\n",
      "The current value of the random number is 61\n",
      "The current value of the random number is 62\n",
      "The current value of the random number is 63\n",
      "The current value of the random number is 64\n",
      "The current value of the random number is 65\n",
      "The current value of the random number is 66\n",
      "The current value of the random number is 67\n",
      "The current value of the random number is 68\n",
      "The current value of the random number is 69\n",
      "The current value of the random number is 70\n",
      "The current value of the random number is 71\n",
      "The current value of the random number is 72\n",
      "The current value of the random number is 73\n",
      "The current value of the random number is 74\n",
      "The current value of the random number is 75\n",
      "The current value of the random number is 76\n",
      "The current value of the random number is 77\n",
      "The current value of the random number is 78\n",
      "The current value of the random number is 79\n",
      "The current value of the random number is 80\n",
      "The current value of the random number is 81\n",
      "The current value of the random number is 82\n",
      "The current value of the random number is 83\n",
      "The current value of the random number is 84\n",
      "The current value of the random number is 85\n",
      "The current value of the random number is 86\n",
      "The current value of the random number is 87\n",
      "The current value of the random number is 88\n",
      "The current value of the random number is 89\n",
      "The current value of the random number is 90\n",
      "The current value of the random number is 91\n",
      "The current value of the random number is 92\n",
      "The current value of the random number is 93\n",
      "The current value of the random number is 94\n",
      "The current value of the random number is 95\n",
      "The current value of the random number is 96\n",
      "The current value of the random number is 97\n",
      "The current value of the random number is 98\n",
      "The current value of the random number is 99\n",
      "The current value of the random number is 100\n"
     ]
    }
   ],
   "source": [
    "#print(randint(0, 100))\n",
    "\n",
    "my_num = randint(0, 100)\n",
    "\n",
    "while my_num <= 100:\n",
    "    print(f\"The current value of the random number is {my_num}\")\n",
    "    my_num += 1\n",
    "    if my_num > 100:\n",
    "        break\n",
    "else:\n",
    "    print(\"Your number is greater than 100\")"
   ]
  },
  {
   "cell_type": "code",
   "execution_count": null,
   "metadata": {},
   "outputs": [],
   "source": []
  }
 ],
 "metadata": {
  "kernelspec": {
   "display_name": "Python 3",
   "language": "python",
   "name": "python3"
  },
  "language_info": {
   "codemirror_mode": {
    "name": "ipython",
    "version": 3
   },
   "file_extension": ".py",
   "mimetype": "text/x-python",
   "name": "python",
   "nbconvert_exporter": "python",
   "pygments_lexer": "ipython3",
   "version": "3.7.0"
  }
 },
 "nbformat": 4,
 "nbformat_minor": 2
}
