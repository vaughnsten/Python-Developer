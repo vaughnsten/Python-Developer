{
 "cells": [
  {
   "cell_type": "code",
   "execution_count": 33,
   "metadata": {},
   "outputs": [],
   "source": [
    "def even_odd(a, b):\n",
    "    \n",
    "    if int(a) % 2 == 0 and int(b) % 2 == 0:\n",
    "#        if a < b:\n",
    "#            result = a\n",
    "#        else:\n",
    "#            result = b\n",
    "#        result = min(a,b)\n",
    "        return min(a, b)\n",
    "    else:\n",
    "#        if a > b:\n",
    "#            result = a\n",
    "#        else:\n",
    "#            result = b\n",
    "#        result = max(a,b)\n",
    "        return max (a, b)\n",
    "#    return result"
   ]
  },
  {
   "cell_type": "code",
   "execution_count": 35,
   "metadata": {},
   "outputs": [
    {
     "name": "stdout",
     "output_type": "stream",
     "text": [
      "Type in first number: 6\n",
      "Type in second number: 8\n",
      "6\n"
     ]
    }
   ],
   "source": [
    "a = input(\"Type in first number: \")\n",
    "b = input(\"Type in second number: \")\n",
    "print(even_odd(a, b))"
   ]
  },
  {
   "cell_type": "code",
   "execution_count": null,
   "metadata": {},
   "outputs": [],
   "source": []
  }
 ],
 "metadata": {
  "kernelspec": {
   "display_name": "Python 3",
   "language": "python",
   "name": "python3"
  },
  "language_info": {
   "codemirror_mode": {
    "name": "ipython",
    "version": 3
   },
   "file_extension": ".py",
   "mimetype": "text/x-python",
   "name": "python",
   "nbconvert_exporter": "python",
   "pygments_lexer": "ipython3",
   "version": "3.7.0"
  }
 },
 "nbformat": 4,
 "nbformat_minor": 2
}
