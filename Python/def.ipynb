{
 "cells": [
  {
   "cell_type": "code",
   "execution_count": 4,
   "metadata": {},
   "outputs": [],
   "source": [
    "#name = input(\"Good day! What is your name? \")\n",
    "\n",
    "#def say_hello(name):\n",
    " #   name = input(\"Good day! What is your name? \")\n",
    " #   print('Hello ' + name)"
   ]
  },
  {
   "cell_type": "code",
   "execution_count": null,
   "metadata": {},
   "outputs": [
    {
     "name": "stdout",
     "output_type": "stream",
     "text": [
      "Good day! What is your name? Vaughn\n",
      "Hello Vaughn\n"
     ]
    }
   ],
   "source": [
    "#say_hello(name)"
   ]
  },
  {
   "cell_type": "code",
   "execution_count": 15,
   "metadata": {},
   "outputs": [],
   "source": [
    "def multiply_age(age):\n",
    "    new_age = float(age) * float(mult)\n",
    "    return new_age"
   ]
  },
  {
   "cell_type": "code",
   "execution_count": 16,
   "metadata": {},
   "outputs": [
    {
     "name": "stdout",
     "output_type": "stream",
     "text": [
      "Enter your age: 21\n",
      "Enter any number you want your age to be multiplied to: 6.78\n",
      "142.38\n"
     ]
    }
   ],
   "source": [
    "age = input(\"Enter your age: \")\n",
    "mult = input(\"Enter any number you want your age to be multiplied to: \")\n",
    "print(multiply_age(age))"
   ]
  },
  {
   "cell_type": "code",
   "execution_count": 24,
   "metadata": {},
   "outputs": [],
   "source": [
    "def word_latin(word):\n",
    "    first_letter = word[0]\n",
    "    \n",
    "    if first_letter.lower() in 'aeiou':\n",
    "        word_change = word + 'ay'\n",
    "    else:\n",
    "        word_change = word[1:] + first_letter + 'ay'\n",
    "        \n",
    "    return word_change"
   ]
  },
  {
   "cell_type": "code",
   "execution_count": 25,
   "metadata": {},
   "outputs": [
    {
     "name": "stdout",
     "output_type": "stream",
     "text": [
      "Type in any word: Alcohol\n",
      "Alcoholay\n"
     ]
    }
   ],
   "source": [
    "word = input(\"Type in any word: \")\n",
    "print(word_latin(word))"
   ]
  },
  {
   "cell_type": "code",
   "execution_count": null,
   "metadata": {},
   "outputs": [],
   "source": []
  }
 ],
 "metadata": {
  "kernelspec": {
   "display_name": "Python 3",
   "language": "python",
   "name": "python3"
  },
  "language_info": {
   "codemirror_mode": {
    "name": "ipython",
    "version": 3
   },
   "file_extension": ".py",
   "mimetype": "text/x-python",
   "name": "python",
   "nbconvert_exporter": "python",
   "pygments_lexer": "ipython3",
   "version": "3.7.0"
  }
 },
 "nbformat": 4,
 "nbformat_minor": 2
}
